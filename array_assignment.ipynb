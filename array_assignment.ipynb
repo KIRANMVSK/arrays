{
 "cells": [
  {
   "cell_type": "raw",
   "id": "a35155a5-31ab-48ca-927b-800967435bd2",
   "metadata": {},
   "source": [
    "\n",
    "1. Given an array, check if it contains any duplicates or not.\n",
    "arr = [1, 2, 4, 2, 5, 9]\n",
    "Output = True\n"
   ]
  },
  {
   "cell_type": "code",
   "execution_count": 4,
   "id": "0d9a1f38-2443-4391-ad05-e9e911cae229",
   "metadata": {},
   "outputs": [
    {
     "name": "stdin",
     "output_type": "stream",
     "text": [
      " enter length of list: 6\n"
     ]
    },
    {
     "name": "stdout",
     "output_type": "stream",
     "text": [
      "taking inputs from user:\n",
      "enter list[0]:"
     ]
    },
    {
     "name": "stdin",
     "output_type": "stream",
     "text": [
      " 1\n"
     ]
    },
    {
     "name": "stdout",
     "output_type": "stream",
     "text": [
      "enter list[1]:"
     ]
    },
    {
     "name": "stdin",
     "output_type": "stream",
     "text": [
      " 2\n"
     ]
    },
    {
     "name": "stdout",
     "output_type": "stream",
     "text": [
      "enter list[2]:"
     ]
    },
    {
     "name": "stdin",
     "output_type": "stream",
     "text": [
      " 4\n"
     ]
    },
    {
     "name": "stdout",
     "output_type": "stream",
     "text": [
      "enter list[3]:"
     ]
    },
    {
     "name": "stdin",
     "output_type": "stream",
     "text": [
      " 2\n"
     ]
    },
    {
     "name": "stdout",
     "output_type": "stream",
     "text": [
      "enter list[4]:"
     ]
    },
    {
     "name": "stdin",
     "output_type": "stream",
     "text": [
      " 5\n"
     ]
    },
    {
     "name": "stdout",
     "output_type": "stream",
     "text": [
      "enter list[5]:"
     ]
    },
    {
     "name": "stdin",
     "output_type": "stream",
     "text": [
      " 9\n"
     ]
    },
    {
     "name": "stdout",
     "output_type": "stream",
     "text": [
      "[1, 2, 4, 2, 5, 9]\n",
      "\n",
      "True is the output\n",
      "duplicates available\n"
     ]
    }
   ],
   "source": [
    "#implementation of array using list\n",
    "\n",
    "#empty list\n",
    "li=[]\n",
    "#taking length of list\n",
    "n=int(input(\" enter length of list:\"))\n",
    "#taking elements from user \n",
    "print(\"taking inputs from user:\")\n",
    "for i in range(n):\n",
    "    print(f\"enter list[%d]:\" %(i),end='')\n",
    "    a=int(input())\n",
    "    li.append(a)\n",
    "print(li)  \n",
    "\n",
    "#this function checks whether duplicates are available or not \n",
    "#if duplicates found it will returns true\n",
    "#if duplicates not found it will return false\n",
    "def  array_dup(li):\n",
    "    \n",
    "    #outer loop \n",
    "    for i in range(len(li)):\n",
    "        num=li[i]\n",
    "        #by count value we can find whether duplicates are available or not\n",
    "        #intially count=0 if same value of num found in li list value increases\n",
    "        #by logically if count>1 , that means duplicates found\n",
    "        count=0\n",
    "        #inner loop\n",
    "        #inner loop checks whether matching elements found or not\n",
    "        #if matching elements found count will increases value by 1 \n",
    "        \n",
    "        for j in range(len(li)):\n",
    "            if(num==li[j]):\n",
    "                count=count+1\n",
    "                if(count==2):\n",
    "                    #duplicates has found\n",
    "                    #so function will returns True as output\n",
    "                    return True\n",
    "    \n",
    "        \n",
    "    \n",
    "        \n",
    "    #duplicates not found\n",
    "    #so function will returns output as False\n",
    "    return False\n",
    "\n",
    "result=array_dup(li)\n",
    "if result==True:\n",
    "    print()\n",
    "    print(f\"{result} is the output\")\n",
    "    print(\"duplicates available\")\n",
    "    \n",
    "else:\n",
    "    print(f\"{result} is the output\")\n",
    "    print(\"no duplicates available\")"
   ]
  },
  {
   "cell_type": "raw",
   "id": "642748eb-d1f2-4ad0-9f8f-30544ec8a595",
   "metadata": {},
   "source": []
  },
  {
   "cell_type": "raw",
   "id": "217b1b49-6297-45d2-b4fe-044d01ee888c",
   "metadata": {},
   "source": [
    "2. Given an array and an integer k, rotate the array to the right by k steps.\n",
    "arr = [1, 2, 3, 4, 5, 6, 7] k = 3\n",
    "Output = [5, 6, 7, 1, 2, 3, 4]"
   ]
  },
  {
   "cell_type": "code",
   "execution_count": 5,
   "id": "fa7c4d1a-5aeb-4eff-8cfe-ea096bd6f950",
   "metadata": {},
   "outputs": [
    {
     "name": "stdin",
     "output_type": "stream",
     "text": [
      " enter no of steps that array should rotate to right: 3\n"
     ]
    },
    {
     "name": "stdout",
     "output_type": "stream",
     "text": [
      "array before rotation [1, 2, 3, 4, 5, 6, 7]\n",
      " resultant array after right rotation by 3 steps is [5, 6, 7, 1, 2, 3, 4] \n"
     ]
    }
   ],
   "source": [
    "#now given array\n",
    "arr=[1,2,3,4,5,6,7]\n",
    "#taking  input from user that how many steps the array should rotate to right \n",
    "k=int(input(\" enter no of steps that array should rotate to right:\"))\n",
    "print(f\"array before rotation {arr}\")\n",
    "#this function will rotate the given array by given k steps\n",
    "#it takes two parameters one is array and another one k \n",
    "def rotate_arr(arr,k):\n",
    "    for i in range(k):\n",
    "        #negative slicing\n",
    "        #-1 gives last element\n",
    "        last_val=arr[-1]\n",
    "        #inner loop helps in copying value of  preceding element \n",
    "        #negative slicing is used\n",
    "        for j in range(-1,-(len(arr)),-1):\n",
    "            #here preceeding value is storing\n",
    "            arr[j]=arr[j-1]\n",
    "        #in first element last element value is copying\n",
    "        arr[0]=last_val\n",
    "    #lastly array return\n",
    "    return arr\n",
    "result=rotate_arr(arr,k)\n",
    "\n",
    "print(f\" resultant array after right rotation by {k} steps is {result} \")\n",
    "    "
   ]
  },
  {
   "cell_type": "raw",
   "id": "03ff5a61-414b-46c6-a871-c6f34b497128",
   "metadata": {},
   "source": []
  },
  {
   "cell_type": "raw",
   "id": "9e0118ee-9ba9-447f-be96-eb93abfdf8d6",
   "metadata": {},
   "source": [
    "3.Reverse the given array in-place, means without using any extra data structure.\n",
    "arr = [2, 4, 5, 7, 9, 12]\n",
    "Output = [12, 9, 7, 5, 4, 2]"
   ]
  },
  {
   "cell_type": "code",
   "execution_count": 6,
   "id": "602efe70-1740-49ef-99fa-0af716c5fedb",
   "metadata": {},
   "outputs": [
    {
     "name": "stdout",
     "output_type": "stream",
     "text": [
      "array before reversing is [1, 2, 3, 5, 6, 7]\n",
      " the reversed array is [7, 6, 5, 3, 2, 1]\n"
     ]
    }
   ],
   "source": [
    "#given arr [2, 4, 5, 7, 9, 12]\n",
    "#arr=[2,4,5,7,9,12]\n",
    "arr=[1,2,3,5,6,7]\n",
    "def rev_arr(arr,l):\n",
    "    i=0\n",
    "    for i in range(0,len(arr),1):\n",
    "        if(i<l+1//2):\n",
    "            #swapping will takes place\n",
    "            #for example first element with last element\n",
    "            temp=arr[i]\n",
    "            arr[i]=arr[l-1]\n",
    "            arr[l-1]=temp\n",
    "            l=l-1\n",
    "        else:\n",
    "            #if we observe logic if i<l+1//2 is  false then else block executes\n",
    "            #that means we have have already obtained reversed array \n",
    "            #to reduce time complexity we used break , no need of using else block and break but if condition is necessary\n",
    "            break\n",
    "        \n",
    "    #lastly reversed array will returns   \n",
    "    return arr\n",
    "\n",
    "print(f\"array before reversing is {arr}\")\n",
    "print(f\" the reversed array is {rev_arr(arr,len(arr))}\")"
   ]
  },
  {
   "cell_type": "raw",
   "id": "1ae74548-9819-4248-970b-1524ea29f2c8",
   "metadata": {},
   "source": []
  },
  {
   "cell_type": "raw",
   "id": "8397ba4e-b723-47d2-b476-d7332aa59444",
   "metadata": {},
   "source": [
    "4.Given an array of integers, find the maximum element in an array\n",
    "arr = [10, 5, 20, 8, 15]\n",
    "Output = 20"
   ]
  },
  {
   "cell_type": "code",
   "execution_count": 7,
   "id": "85cac6e9-bf8e-43f0-a645-55c955932aff",
   "metadata": {},
   "outputs": [
    {
     "name": "stdout",
     "output_type": "stream",
     "text": [
      " the maximum element in array is 20 found at index 4\n"
     ]
    }
   ],
   "source": [
    "#given arr [10,5,20,8,15]\n",
    "arr=[10,5,20,8,15]\n",
    "#let intially max element is first element\n",
    "max_ele=arr[0]\n",
    "\n",
    "def max_ele(arr):\n",
    "    #let intially max element is first element    \n",
    "    max_ele=arr[0]\n",
    "    for i in range(len(arr)):\n",
    "        #if any element found that whose value is greater than max_ele then \n",
    "        #that value will copies to max_ele\n",
    "        if(max_ele<arr[i]):\n",
    "            max_ele=arr[i]\n",
    "    #function will returns maximum element and index where it present\n",
    "    return max_ele,i\n",
    "\n",
    "result ,index =max_ele(arr)\n",
    "\n",
    "print(f\" the maximum element in array is {result} found at index {index}\")\n",
    "    "
   ]
  },
  {
   "cell_type": "raw",
   "id": "ea357667-2b93-4a6e-b8f7-f594a05d63ca",
   "metadata": {},
   "source": []
  },
  {
   "cell_type": "raw",
   "id": "ade8a519-0a64-4c14-bdee-80e267c315b9",
   "metadata": {},
   "source": [
    "5. Given a sorted array, remove the duplicate element without using any extra data structure.\n",
    "arr = [1, 1, 2, 2, 2, 3, 3, 4, 4, 4, 5, 5]\n",
    "Output = [1, 2, 3, 4, 5]"
   ]
  },
  {
   "cell_type": "code",
   "execution_count": 8,
   "id": "7b37475e-ea24-47f2-a980-c428e3aa51c3",
   "metadata": {},
   "outputs": [
    {
     "name": "stdout",
     "output_type": "stream",
     "text": [
      "array before removing duplicates [1, 1, 2, 2, 2, 3, 3, 4, 4, 4, 5, 5]\n",
      "array after removing duplicates [1, 2, 3, 4, 5]\n"
     ]
    }
   ],
   "source": [
    "#array given is [1, 1, 2, 2, 2, 3, 3, 4, 4, 4, 5, 5]\n",
    "\n",
    "arr=[1, 1, 2, 2, 2, 3, 3, 4, 4, 4, 5, 5]\n",
    "\n",
    "#this function will removes the duplicates\n",
    "def remove_dupli(arr,l):\n",
    "    for i in range(len(arr)):\n",
    "        count=0\n",
    "        #this count value helps in finding duplicates intially it is 0\n",
    "        #for duplicate value its value increases by1\n",
    "        #by logically if count==2 that means duplicate is found\n",
    "        #to remove that we have used pop() built in function\n",
    "        #pop(index) \n",
    "        num=arr[i]\n",
    "        for j in range(l):\n",
    "            if(j>=len(arr)):\n",
    "                break\n",
    "            else:\n",
    "                if(num==arr[j]):\n",
    "                    count=count+1\n",
    "                    if(count==2):\n",
    "                        #we are popping element at index j\n",
    "                        arr.pop(j)\n",
    "                        count=count-1\n",
    "                        \n",
    "                        #we are calling again function \n",
    "                        #reason is we need updated array because we have popped element\n",
    "                        #if not we may get list index out of range error\n",
    "                        return remove_dupli(arr,l)\n",
    "\n",
    "        \n",
    "        \n",
    "print(f\"array before removing duplicates {arr}\")      \n",
    "remove_dupli(arr,len(arr))\n",
    "print(f\"array after removing duplicates {arr}\")\n",
    "    "
   ]
  },
  {
   "cell_type": "code",
   "execution_count": null,
   "id": "48c7069d-00ca-4ddc-9de0-3bda2acebd35",
   "metadata": {},
   "outputs": [],
   "source": []
  }
 ],
 "metadata": {
  "kernelspec": {
   "display_name": "Python 3 (ipykernel)",
   "language": "python",
   "name": "python3"
  },
  "language_info": {
   "codemirror_mode": {
    "name": "ipython",
    "version": 3
   },
   "file_extension": ".py",
   "mimetype": "text/x-python",
   "name": "python",
   "nbconvert_exporter": "python",
   "pygments_lexer": "ipython3",
   "version": "3.10.8"
  }
 },
 "nbformat": 4,
 "nbformat_minor": 5
}
